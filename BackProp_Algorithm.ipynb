{
  "nbformat": 4,
  "nbformat_minor": 0,
  "metadata": {
    "colab": {
      "name": "Asaf Shtrul & Kim Boren - DL Assignment 1",
      "provenance": [],
      "collapsed_sections": []
    },
    "kernelspec": {
      "name": "python3",
      "display_name": "Python 3"
    }
  },
  "cells": [
    {
      "cell_type": "markdown",
      "metadata": {
        "id": "SE6qcw_j8Pi2"
      },
      "source": [
        "In this homework assignment, you are requested to implement a full backprop algorithm using only *numpy*.\n",
        "\n",
        "- We assume sigmoid activation across all layers.\n",
        "- We assume a single value in the output layer"
      ]
    },
    {
      "cell_type": "code",
      "metadata": {
        "id": "UV4RvXYL8k85"
      },
      "source": [
        "import numpy as np\n",
        "import pandas as pd\n",
        "np.random.seed(42)\n",
        "from sklearn.utils import shuffle\n",
        "import matplotlib.pyplot as plt\n",
        "from sklearn.linear_model import LogisticRegression\n",
        "from sklearn.model_selection import train_test_split"
      ],
      "execution_count": null,
      "outputs": []
    },
    {
      "cell_type": "markdown",
      "metadata": {
        "id": "SRml6glFIPCa"
      },
      "source": [
        "The following class represents a simple feed forward network with multiple layers. The network class provides methods for running forward and backward for a single instance, throught the network. You should implement the methods (indicated with TODO), that performs forward and backward for an entire batch. Note, the idea is to use matrix multiplications, and not running standard loops over the instances in the batch."
      ]
    },
    {
      "cell_type": "code",
      "metadata": {
        "id": "kLdNoCt58qg5"
      },
      "source": [
        "\n",
        "class MyNN:\n",
        "  def __init__(self, learning_rate, layer_sizes):\n",
        "    '''\n",
        "    learning_rate - the learning to use in backward\n",
        "    layer_sizes - a list of numbers, each number repreents the nuber of neurons\n",
        "                  to have in every layer. Therfore, the length of the list \n",
        "                  represents the number layers this network has.\n",
        "    '''\n",
        "    self.learning_rate = learning_rate\n",
        "    self.layer_sizes = layer_sizes\n",
        "    self.model_params = {}\n",
        "    self.memory = {}\n",
        "    self.grads = {}\n",
        "    \n",
        "    # Initializing weights\n",
        "    for layer_index in range(len(layer_sizes) - 1):\n",
        "      W_input = layer_sizes[layer_index + 1]\n",
        "      W_output = layer_sizes[layer_index]\n",
        "      self.model_params['W_' + str(layer_index + 1)] = np.random.randn(W_input, W_output) * 0.1\n",
        "      self.model_params['b_' + str(layer_index + 1)] = np.random.randn(W_input) * 0.1\n",
        "      \n",
        "      \n",
        "  def forward_single_instance(self, x):    \n",
        "    a_i_1 = x\n",
        "    self.memory['a_0'] = x\n",
        "    for layer_index in range(len(self.layer_sizes) - 1):\n",
        "      W_i = self.model_params['W_' + str(layer_index + 1)]\n",
        "      b_i = self.model_params['b_' + str(layer_index + 1)]\n",
        "      z_i = np.dot(W_i, a_i_1) + b_i\n",
        "      a_i = 1/(1+np.exp(-z_i))\n",
        "      self.memory['a_' + str(layer_index + 1)] = a_i\n",
        "      a_i_1 = a_i\n",
        "    return a_i_1\n",
        "  \n",
        "  \n",
        "  def log_loss(self, y_hat, y):\n",
        "    '''\n",
        "    Logistic loss, assuming a single value in y_hat and y.\n",
        "    '''\n",
        "    m = y_hat[0]\n",
        "    cost = -y[0]*np.log(y_hat[0]) - (1 - y[0])*np.log(1 - y_hat[0])\n",
        "    return cost\n",
        "  \n",
        "  \n",
        "  def backward_single_instance(self, y):\n",
        "    a_output = self.memory['a_' + str(len(self.layer_sizes) - 1)]\n",
        "    dz = a_output - y\n",
        "     \n",
        "    for layer_index in range(len(self.layer_sizes) - 1, 0, -1):\n",
        "      print(layer_index)\n",
        "      a_l_1 = self.memory['a_' + str(layer_index - 1)]\n",
        "      dW = np.dot(dz.reshape(-1, 1), a_l_1.reshape(1, -1))\n",
        "      self.grads['dW_' + str(layer_index)] = dW\n",
        "      W_l = self.model_params['W_' + str(layer_index)]\n",
        "      dz = (a_l_1 * (1 - a_l_1)).reshape(-1, 1) * np.dot(W_l.T, dz.reshape(-1, 1))\n",
        "      # TODO-1: calculate and memorize db as well.\n",
        "      db = dz #done-1 \n",
        "  \n",
        "  # TODO-2: update weights with grads\n",
        "  def update(self): #done-2\n",
        "     for layer_index in range(len(self.layer_sizes)-1):\n",
        "      self.model_params['W_' + str(layer_index + 1)] -= (self.learning_rate * self.grads['dW_' + str(layer_index + 1)])\n",
        "      self.model_params['b_' + str(layer_index + 1)] -= (self.learning_rate * self.grads['db_' + str(layer_index + 1)])\n",
        " \n",
        "  \n",
        "  # TODO-3: implement forward for a batch X.shape = (network_input_size, number_of_instance)\n",
        "  def forward_batch(self, X): #done-3\n",
        "    A_i_1 = X\n",
        "    self.memory['A_0'] = X\n",
        "    for layer_index in range(len(self.layer_sizes) - 1):\n",
        "      W_i = self.model_params['W_' + str(layer_index + 1)]\n",
        "      b_i = self.model_params['b_' + str(layer_index + 1)]\n",
        "      Z_i = np.dot(W_i, A_i_1) + b_i.reshape(-1,1)\n",
        "      A_i = 1/(1+np.exp(-Z_i))\n",
        "      self.memory['A_' + str(layer_index + 1)] = A_i\n",
        "      A_i_1 = A_i\n",
        "    return A_i_1\n",
        "  \n",
        "  # TODO-4: implement backward for a batch y.shape = (1, number_of_instance)\n",
        "  def backward_batch(self, y): #done-4\n",
        "    A_output = self.memory['A_' + str(len(self.layer_sizes) - 1)]\n",
        "    dZ = A_output - y\n",
        "    m = (y.shape[1])\n",
        " \n",
        "    for layer_index in range(len(self.layer_sizes) - 1, 0, -1):\n",
        "      A_l_1 = self.memory['A_' + str(layer_index-1)]\n",
        "      dW = (1/m)*(np.dot(dZ, A_l_1.T))\n",
        "      self.grads['dW_' + str(layer_index)] = dW\n",
        "      W_l = self.model_params['W_' + str(layer_index)]\n",
        "      db = dZ.T.mean(0)\n",
        "      self.grads['db_' + str(layer_index)] = db\n",
        "      dZ = (A_l_1 * (1 - A_l_1))* np.dot(W_l.T, dZ)\n",
        "  \n",
        "  # TODO-5: implement log_loss_batch, for a batch of instances\n",
        "  def log_loss_batch(self, y_hat, y): #done-5\n",
        "    m = y.shape[1]\n",
        "    cost =  (np.dot(y, np.log(y_hat).T) + np.dot(1 - y, np.log(1 - y_hat).T))\n",
        "    return cost.sum() * (-1/m)"
      ],
      "execution_count": null,
      "outputs": []
    },
    {
      "cell_type": "code",
      "metadata": {
        "id": "Qib6W4QXO644"
      },
      "source": [
        "nn = MyNN(0.01, [3, 2, 1])"
      ],
      "execution_count": null,
      "outputs": []
    },
    {
      "cell_type": "code",
      "metadata": {
        "id": "4nQR8QllPf_5",
        "colab": {
          "base_uri": "https://localhost:8080/"
        },
        "outputId": "8d630d6f-5a86-4716-987e-cccaf848f514"
      },
      "source": [
        "nn.model_params"
      ],
      "execution_count": null,
      "outputs": [
        {
          "output_type": "execute_result",
          "data": {
            "text/plain": [
              "{'W_1': array([[ 0.04967142, -0.01382643,  0.06476885],\n",
              "        [ 0.15230299, -0.02341534, -0.0234137 ]]),\n",
              " 'W_2': array([[-0.04694744,  0.054256  ]]),\n",
              " 'b_1': array([0.15792128, 0.07674347]),\n",
              " 'b_2': array([-0.04634177])}"
            ]
          },
          "metadata": {
            "tags": []
          },
          "execution_count": 4
        }
      ]
    },
    {
      "cell_type": "code",
      "metadata": {
        "id": "VXiyn-yrPC6-",
        "colab": {
          "base_uri": "https://localhost:8080/"
        },
        "outputId": "439ebe26-9c47-47aa-8820-6d482b72c50d"
      },
      "source": [
        "x = np.random.randn(3)\n",
        "y = np.random.randn(1)\n",
        "\n",
        "y_hat = nn.forward_single_instance(x)\n",
        "print(y_hat)"
      ],
      "execution_count": null,
      "outputs": [
        {
          "output_type": "stream",
          "text": [
            "[0.48946]\n"
          ],
          "name": "stdout"
        }
      ]
    },
    {
      "cell_type": "code",
      "metadata": {
        "id": "k5M50i3plclj",
        "colab": {
          "base_uri": "https://localhost:8080/"
        },
        "outputId": "4effaa76-ec54-46ce-8c4e-3d8b98abcd36"
      },
      "source": [
        "nn.backward_single_instance(y)"
      ],
      "execution_count": null,
      "outputs": [
        {
          "output_type": "stream",
          "text": [
            "2\n",
            "1\n"
          ],
          "name": "stdout"
        }
      ]
    },
    {
      "cell_type": "code",
      "metadata": {
        "id": "CWnZB1YmYnIt"
      },
      "source": [
        "def train(X, y, epochs, batch_size):\n",
        "  '''\n",
        "  Train procedure, please note the TODOs inside\n",
        "  '''\n",
        "  loss_per_epoch = []\n",
        "  for e in range(1, epochs + 1):\n",
        "    epoch_loss = 0\n",
        "    X_s, y_s = shuffle(X.T, y.T)\n",
        "    batches_X = np.array_split(X_s ,batch_size)  # TODO: - DONE\n",
        "    batches_y = np.array_split(y_s, batch_size)\n",
        "\n",
        "\n",
        "    for X_b, y_b in zip(batches_X, batches_y):\n",
        "      y_hat = nn.forward_batch(X_b.T)\n",
        "      epoch_loss += nn.log_loss_batch(y_hat, y_b.T)\n",
        "      nn.backward_batch(y_b.T)\n",
        "      nn.update()\n",
        "    loss_per_epoch.append(epoch_loss / len(batches_X))\n",
        "    print(f'Epoch {e}, loss={epoch_loss/len(batches_X)}')\n",
        "  return loss_per_epoch\n"
      ],
      "execution_count": null,
      "outputs": []
    },
    {
      "cell_type": "code",
      "metadata": {
        "id": "cE1ydWlatkty",
        "colab": {
          "base_uri": "https://localhost:8080/"
        },
        "outputId": "38b32e87-daf7-492c-c7c7-e3c9cce4abae"
      },
      "source": [
        "# TODO-8: Make sure the following network trains properly\n",
        "#done-8, work good\n",
        "nn = MyNN(0.001, [6, 4, 3, 1])\n",
        "\n",
        "X = np.random.randn(6, 100)\n",
        "y = np.random.randn(1, 100)\n",
        "batch_size = 8\n",
        "epochs = 2\n",
        "\n",
        "train(X, y, epochs, batch_size)"
      ],
      "execution_count": null,
      "outputs": [
        {
          "output_type": "stream",
          "text": [
            "Epoch 1, loss=0.7034174436116096\n",
            "Epoch 2, loss=0.6983151243233774\n"
          ],
          "name": "stdout"
        },
        {
          "output_type": "execute_result",
          "data": {
            "text/plain": [
              "[0.7034174436116096, 0.6983151243233774]"
            ]
          },
          "metadata": {
            "tags": []
          },
          "execution_count": 8
        }
      ]
    },
    {
      "cell_type": "markdown",
      "metadata": {
        "id": "6dY4scUksulC"
      },
      "source": [
        "#TODO: train on an external dataset\n",
        "\n",
        "Train on the Bike Sharing dataset, using the same split as in *DL Notebook 4 - logistic regression*.\n",
        "Use the following features from the data:\n",
        "\n",
        "* temp\n",
        "* atemp\n",
        "* hum\n",
        "* windspeed\n",
        "* weekday\n",
        "\n",
        "The response variable is, like in Notebook 4, raw[\"success\"] = raw[\"cnt\"] > (raw[\"cnt\"].describe()[\"mean\"]).\n",
        "\n",
        "The architecture of the network should be: [5, 40, 30, 10, 7, 5, 3, 1].\n",
        "\n",
        "Use batch_size=8, and train it for 100 epochs on the train set (based on the split as requested above).\n",
        "\n",
        "Then, plot loss per epoch."
      ]
    },
    {
      "cell_type": "code",
      "metadata": {
        "colab": {
          "base_uri": "https://localhost:8080/"
        },
        "id": "80rAHH3q_-ok",
        "outputId": "a9ab8a8f-4f7a-4e08-853b-e7dde8436c25"
      },
      "source": [
        "!git clone https://github.com/kfirbar/course-ml-data.git\n",
        "raw = pd.read_csv('course-ml-data/Bike-Sharing-Dataset 2/day.csv')"
      ],
      "execution_count": null,
      "outputs": [
        {
          "output_type": "stream",
          "text": [
            "Cloning into 'course-ml-data'...\n",
            "remote: Enumerating objects: 24, done.\u001b[K\n",
            "remote: Counting objects: 100% (24/24), done.\u001b[K\n",
            "remote: Compressing objects: 100% (20/20), done.\u001b[K\n",
            "remote: Total 24 (delta 3), reused 8 (delta 0), pack-reused 0\u001b[K\n",
            "Unpacking objects: 100% (24/24), done.\n"
          ],
          "name": "stdout"
        }
      ]
    },
    {
      "cell_type": "code",
      "metadata": {
        "colab": {
          "base_uri": "https://localhost:8080/",
          "height": 202
        },
        "id": "Ir3vXMIsC2do",
        "outputId": "cb381b05-9322-4355-d3d0-d67423930489"
      },
      "source": [
        "raw.head()"
      ],
      "execution_count": null,
      "outputs": [
        {
          "output_type": "execute_result",
          "data": {
            "text/html": [
              "<div>\n",
              "<style scoped>\n",
              "    .dataframe tbody tr th:only-of-type {\n",
              "        vertical-align: middle;\n",
              "    }\n",
              "\n",
              "    .dataframe tbody tr th {\n",
              "        vertical-align: top;\n",
              "    }\n",
              "\n",
              "    .dataframe thead th {\n",
              "        text-align: right;\n",
              "    }\n",
              "</style>\n",
              "<table border=\"1\" class=\"dataframe\">\n",
              "  <thead>\n",
              "    <tr style=\"text-align: right;\">\n",
              "      <th></th>\n",
              "      <th>instant</th>\n",
              "      <th>dteday</th>\n",
              "      <th>season</th>\n",
              "      <th>yr</th>\n",
              "      <th>mnth</th>\n",
              "      <th>holiday</th>\n",
              "      <th>weekday</th>\n",
              "      <th>workingday</th>\n",
              "      <th>weathersit</th>\n",
              "      <th>temp</th>\n",
              "      <th>atemp</th>\n",
              "      <th>hum</th>\n",
              "      <th>windspeed</th>\n",
              "      <th>casual</th>\n",
              "      <th>registered</th>\n",
              "      <th>cnt</th>\n",
              "    </tr>\n",
              "  </thead>\n",
              "  <tbody>\n",
              "    <tr>\n",
              "      <th>0</th>\n",
              "      <td>1</td>\n",
              "      <td>2011-01-01</td>\n",
              "      <td>1</td>\n",
              "      <td>0</td>\n",
              "      <td>1</td>\n",
              "      <td>0</td>\n",
              "      <td>6</td>\n",
              "      <td>0</td>\n",
              "      <td>2</td>\n",
              "      <td>0.344167</td>\n",
              "      <td>0.363625</td>\n",
              "      <td>0.805833</td>\n",
              "      <td>0.160446</td>\n",
              "      <td>331</td>\n",
              "      <td>654</td>\n",
              "      <td>985</td>\n",
              "    </tr>\n",
              "    <tr>\n",
              "      <th>1</th>\n",
              "      <td>2</td>\n",
              "      <td>2011-01-02</td>\n",
              "      <td>1</td>\n",
              "      <td>0</td>\n",
              "      <td>1</td>\n",
              "      <td>0</td>\n",
              "      <td>0</td>\n",
              "      <td>0</td>\n",
              "      <td>2</td>\n",
              "      <td>0.363478</td>\n",
              "      <td>0.353739</td>\n",
              "      <td>0.696087</td>\n",
              "      <td>0.248539</td>\n",
              "      <td>131</td>\n",
              "      <td>670</td>\n",
              "      <td>801</td>\n",
              "    </tr>\n",
              "    <tr>\n",
              "      <th>2</th>\n",
              "      <td>3</td>\n",
              "      <td>2011-01-03</td>\n",
              "      <td>1</td>\n",
              "      <td>0</td>\n",
              "      <td>1</td>\n",
              "      <td>0</td>\n",
              "      <td>1</td>\n",
              "      <td>1</td>\n",
              "      <td>1</td>\n",
              "      <td>0.196364</td>\n",
              "      <td>0.189405</td>\n",
              "      <td>0.437273</td>\n",
              "      <td>0.248309</td>\n",
              "      <td>120</td>\n",
              "      <td>1229</td>\n",
              "      <td>1349</td>\n",
              "    </tr>\n",
              "    <tr>\n",
              "      <th>3</th>\n",
              "      <td>4</td>\n",
              "      <td>2011-01-04</td>\n",
              "      <td>1</td>\n",
              "      <td>0</td>\n",
              "      <td>1</td>\n",
              "      <td>0</td>\n",
              "      <td>2</td>\n",
              "      <td>1</td>\n",
              "      <td>1</td>\n",
              "      <td>0.200000</td>\n",
              "      <td>0.212122</td>\n",
              "      <td>0.590435</td>\n",
              "      <td>0.160296</td>\n",
              "      <td>108</td>\n",
              "      <td>1454</td>\n",
              "      <td>1562</td>\n",
              "    </tr>\n",
              "    <tr>\n",
              "      <th>4</th>\n",
              "      <td>5</td>\n",
              "      <td>2011-01-05</td>\n",
              "      <td>1</td>\n",
              "      <td>0</td>\n",
              "      <td>1</td>\n",
              "      <td>0</td>\n",
              "      <td>3</td>\n",
              "      <td>1</td>\n",
              "      <td>1</td>\n",
              "      <td>0.226957</td>\n",
              "      <td>0.229270</td>\n",
              "      <td>0.436957</td>\n",
              "      <td>0.186900</td>\n",
              "      <td>82</td>\n",
              "      <td>1518</td>\n",
              "      <td>1600</td>\n",
              "    </tr>\n",
              "  </tbody>\n",
              "</table>\n",
              "</div>"
            ],
            "text/plain": [
              "   instant      dteday  season  yr  ...  windspeed  casual  registered   cnt\n",
              "0        1  2011-01-01       1   0  ...   0.160446     331         654   985\n",
              "1        2  2011-01-02       1   0  ...   0.248539     131         670   801\n",
              "2        3  2011-01-03       1   0  ...   0.248309     120        1229  1349\n",
              "3        4  2011-01-04       1   0  ...   0.160296     108        1454  1562\n",
              "4        5  2011-01-05       1   0  ...   0.186900      82        1518  1600\n",
              "\n",
              "[5 rows x 16 columns]"
            ]
          },
          "metadata": {
            "tags": []
          },
          "execution_count": 10
        }
      ]
    },
    {
      "cell_type": "code",
      "metadata": {
        "colab": {
          "base_uri": "https://localhost:8080/"
        },
        "id": "dpvCM60HC98J",
        "outputId": "763dc4b8-ba44-421e-bfaa-f26419994db4"
      },
      "source": [
        "raw[\"cnt\"].describe()"
      ],
      "execution_count": null,
      "outputs": [
        {
          "output_type": "execute_result",
          "data": {
            "text/plain": [
              "count     731.000000\n",
              "mean     4504.348837\n",
              "std      1937.211452\n",
              "min        22.000000\n",
              "25%      3152.000000\n",
              "50%      4548.000000\n",
              "75%      5956.000000\n",
              "max      8714.000000\n",
              "Name: cnt, dtype: float64"
            ]
          },
          "metadata": {
            "tags": []
          },
          "execution_count": 11
        }
      ]
    },
    {
      "cell_type": "code",
      "metadata": {
        "id": "c4GZHQh_EQOk"
      },
      "source": [
        "raw[\"success\"] = raw[\"cnt\"] > (raw[\"cnt\"].describe()[\"mean\"])"
      ],
      "execution_count": null,
      "outputs": []
    },
    {
      "cell_type": "code",
      "metadata": {
        "id": "NLko6JeDERR4"
      },
      "source": [
        "batch_size = 8\n",
        "epochs = 100\n",
        "\n",
        "nn = MyNN(0.003, [5, 40, 30, 10, 7, 5, 3, 1]) #After playing a bit I saw that Learning Rate 0.003 makes the curve smoother than 0.001/0.01 :)"
      ],
      "execution_count": null,
      "outputs": []
    },
    {
      "cell_type": "code",
      "metadata": {
        "colab": {
          "base_uri": "https://localhost:8080/"
        },
        "id": "5MviSXc9EZYN",
        "outputId": "b9b623fa-fab8-4dc7-b265-a02b1b66f7a4"
      },
      "source": [
        "y = raw[\"success\"]\n",
        "\n",
        "X = raw[[\"temp\", \"atemp\", \"hum\", \"windspeed\", \"weekday\"]]\n",
        "  \n",
        "X_train, X_test, y_train, y_test = train_test_split(X, y, test_size=0.3)\n",
        "\n",
        "lr = LogisticRegression()\n",
        "\n",
        "lr.fit(X_train, y_train)"
      ],
      "execution_count": null,
      "outputs": [
        {
          "output_type": "execute_result",
          "data": {
            "text/plain": [
              "LogisticRegression(C=1.0, class_weight=None, dual=False, fit_intercept=True,\n",
              "                   intercept_scaling=1, l1_ratio=None, max_iter=100,\n",
              "                   multi_class='auto', n_jobs=None, penalty='l2',\n",
              "                   random_state=None, solver='lbfgs', tol=0.0001, verbose=0,\n",
              "                   warm_start=False)"
            ]
          },
          "metadata": {
            "tags": []
          },
          "execution_count": 14
        }
      ]
    },
    {
      "cell_type": "code",
      "metadata": {
        "colab": {
          "base_uri": "https://localhost:8080/",
          "height": 1000
        },
        "id": "0YeuBBuuEsad",
        "outputId": "89426469-ea4b-4add-a47d-3181c4322311"
      },
      "source": [
        "X_train = np.array(X_train.T)\n",
        "X_test = np.array(X_test.T)\n",
        "y_train = np.array(y_train).reshape(1, -1)\n",
        "y_test = np.array(y_test).reshape(1, -1)\n",
        "loss_per_epoch = train(X_train, y_train, epochs, batch_size)\n",
        "plt.plot(loss_per_epoch)\n",
        "plt.xlabel('Epoch number')\n",
        "plt.ylabel(\"Loss  magnitude\")\n",
        "plt.show()"
      ],
      "execution_count": null,
      "outputs": [
        {
          "output_type": "stream",
          "text": [
            "Epoch 1, loss=0.6959325023014535\n",
            "Epoch 2, loss=0.6957999917796989\n",
            "Epoch 3, loss=0.6956995414411546\n",
            "Epoch 4, loss=0.6955793573004388\n",
            "Epoch 5, loss=0.6954683285124046\n",
            "Epoch 6, loss=0.6953652870889095\n",
            "Epoch 7, loss=0.6952591770946386\n",
            "Epoch 8, loss=0.6951652043652375\n",
            "Epoch 9, loss=0.6950429492662691\n",
            "Epoch 10, loss=0.6949389188769175\n",
            "Epoch 11, loss=0.6948499998333958\n",
            "Epoch 12, loss=0.6947445011051451\n",
            "Epoch 13, loss=0.6946487295311816\n",
            "Epoch 14, loss=0.69457204486831\n",
            "Epoch 15, loss=0.6944656412169421\n",
            "Epoch 16, loss=0.694379897279249\n",
            "Epoch 17, loss=0.6942852599042794\n",
            "Epoch 18, loss=0.6942082930698552\n",
            "Epoch 19, loss=0.6941154923230826\n",
            "Epoch 20, loss=0.6940483954841619\n",
            "Epoch 21, loss=0.6939699962273347\n",
            "Epoch 22, loss=0.6938772048600933\n",
            "Epoch 23, loss=0.6937970794208473\n",
            "Epoch 24, loss=0.6937214770306751\n",
            "Epoch 25, loss=0.693645487077705\n",
            "Epoch 26, loss=0.6935726534323334\n",
            "Epoch 27, loss=0.6935049368328203\n",
            "Epoch 28, loss=0.6934329864470381\n",
            "Epoch 29, loss=0.6933665668413825\n",
            "Epoch 30, loss=0.693299078628149\n",
            "Epoch 31, loss=0.6932344073411114\n",
            "Epoch 32, loss=0.6931709968803751\n",
            "Epoch 33, loss=0.6930998295869677\n",
            "Epoch 34, loss=0.6930423766167012\n",
            "Epoch 35, loss=0.6929792258783254\n",
            "Epoch 36, loss=0.6929220133456347\n",
            "Epoch 37, loss=0.6928571462597735\n",
            "Epoch 38, loss=0.6928081033086092\n",
            "Epoch 39, loss=0.6927541562151488\n",
            "Epoch 40, loss=0.6926916313834983\n",
            "Epoch 41, loss=0.6926390230790191\n",
            "Epoch 42, loss=0.6925797350345322\n",
            "Epoch 43, loss=0.6925251862273913\n",
            "Epoch 44, loss=0.6924782914578399\n",
            "Epoch 45, loss=0.6924278214269871\n",
            "Epoch 46, loss=0.6923804776553562\n",
            "Epoch 47, loss=0.6923386981034316\n",
            "Epoch 48, loss=0.6922847682143478\n",
            "Epoch 49, loss=0.6922400944660971\n",
            "Epoch 50, loss=0.6921941679641199\n",
            "Epoch 51, loss=0.6921449435890188\n",
            "Epoch 52, loss=0.6920973810543215\n",
            "Epoch 53, loss=0.6920567401945465\n",
            "Epoch 54, loss=0.6920138212791184\n",
            "Epoch 55, loss=0.6919749667156391\n",
            "Epoch 56, loss=0.6919323257020512\n",
            "Epoch 57, loss=0.6919102559219202\n",
            "Epoch 58, loss=0.6918595946505232\n",
            "Epoch 59, loss=0.691823771052915\n",
            "Epoch 60, loss=0.6917849602929846\n",
            "Epoch 61, loss=0.691742605096068\n",
            "Epoch 62, loss=0.6917022683377828\n",
            "Epoch 63, loss=0.6916729706711761\n",
            "Epoch 64, loss=0.6916594920923447\n",
            "Epoch 65, loss=0.6916114199668225\n",
            "Epoch 66, loss=0.6915751563228677\n",
            "Epoch 67, loss=0.6915487138042469\n",
            "Epoch 68, loss=0.6915153590842454\n",
            "Epoch 69, loss=0.6914787152371931\n",
            "Epoch 70, loss=0.691437644881354\n",
            "Epoch 71, loss=0.6914161302236704\n",
            "Epoch 72, loss=0.6913883030605901\n",
            "Epoch 73, loss=0.6913618938480218\n",
            "Epoch 74, loss=0.691335996490612\n",
            "Epoch 75, loss=0.6912972131282104\n",
            "Epoch 76, loss=0.6912708204201552\n",
            "Epoch 77, loss=0.6912717533024433\n",
            "Epoch 78, loss=0.6912437083925325\n",
            "Epoch 79, loss=0.6912128430762532\n",
            "Epoch 80, loss=0.6911620098041532\n",
            "Epoch 81, loss=0.6911463561261074\n",
            "Epoch 82, loss=0.6911171329111137\n",
            "Epoch 83, loss=0.6910972508262437\n",
            "Epoch 84, loss=0.6910741338934617\n",
            "Epoch 85, loss=0.6910676522613454\n",
            "Epoch 86, loss=0.6910368114972189\n",
            "Epoch 87, loss=0.6910144233671839\n",
            "Epoch 88, loss=0.6909872741235837\n",
            "Epoch 89, loss=0.6909704678430715\n",
            "Epoch 90, loss=0.690954818721577\n",
            "Epoch 91, loss=0.6909324088546376\n",
            "Epoch 92, loss=0.6909226462776212\n",
            "Epoch 93, loss=0.6908925225696227\n",
            "Epoch 94, loss=0.6908748109584097\n",
            "Epoch 95, loss=0.6908602914680005\n",
            "Epoch 96, loss=0.6908383665801217\n",
            "Epoch 97, loss=0.6908141086751137\n",
            "Epoch 98, loss=0.6908022077448199\n",
            "Epoch 99, loss=0.6907771462122044\n",
            "Epoch 100, loss=0.6907579568574681\n"
          ],
          "name": "stdout"
        },
        {
          "output_type": "display_data",
          "data": {
            "image/png": "[encoded data removed]",
            "text/plain": [
              "<Figure size 432x288 with 1 Axes>"
            ]
          },
          "metadata": {
            "tags": [],
            "needs_background": "light"
          }
        }
      ]
    },
    {
      "cell_type": "code",
      "metadata": {
        "id": "O5NdGDYYEx1_"
      },
      "source": [
        ""
      ],
      "execution_count": null,
      "outputs": []
    }
  ]
}